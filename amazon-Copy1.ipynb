{
 "cells": [
  {
   "cell_type": "code",
   "execution_count": 2,
   "metadata": {},
   "outputs": [
    {
     "ename": "ModuleNotFoundError",
     "evalue": "No module named 'PIL'",
     "output_type": "error",
     "traceback": [
      "\u001b[1;31m---------------------------------------------------------------------------\u001b[0m",
      "\u001b[1;31mModuleNotFoundError\u001b[0m                       Traceback (most recent call last)",
      "\u001b[1;32m<ipython-input-2-baef1d56a411>\u001b[0m in \u001b[0;36m<module>\u001b[1;34m()\u001b[0m\n\u001b[0;32m      1\u001b[0m \u001b[1;31m# import the necessary packages\u001b[0m\u001b[1;33m\u001b[0m\u001b[1;33m\u001b[0m\u001b[0m\n\u001b[1;32m----> 2\u001b[1;33m \u001b[1;32mfrom\u001b[0m \u001b[0mPIL\u001b[0m \u001b[1;32mimport\u001b[0m \u001b[0mImage\u001b[0m\u001b[1;33m\u001b[0m\u001b[0m\n\u001b[0m\u001b[0;32m      3\u001b[0m \u001b[1;32mfrom\u001b[0m \u001b[0mPIL\u001b[0m \u001b[1;32mimport\u001b[0m \u001b[0mImageEnhance\u001b[0m\u001b[1;33m\u001b[0m\u001b[0m\n\u001b[0;32m      4\u001b[0m \u001b[1;32mimport\u001b[0m \u001b[0mPIL\u001b[0m\u001b[1;33m.\u001b[0m\u001b[0mImageOps\u001b[0m\u001b[1;33m\u001b[0m\u001b[0m\n\u001b[0;32m      5\u001b[0m \u001b[1;32mimport\u001b[0m \u001b[0mpytesseract\u001b[0m\u001b[1;33m\u001b[0m\u001b[0m\n",
      "\u001b[1;31mModuleNotFoundError\u001b[0m: No module named 'PIL'"
     ]
    }
   ],
   "source": [
    "# import the necessary packages\n",
    "from PIL import Image\n",
    "from PIL import ImageEnhance\n",
    "import PIL.ImageOps\n",
    "import pytesseract\n",
    "import argparse\n",
    "import cv2\n",
    "import os\n",
    "import numpy\n",
    "\n",
    "# construct the argument parse and parse the arguments\n",
    "ap = argparse.ArgumentParser()\n",
    "ap.add_argument(\"-i\", \"--image\", required=True,\n",
    "\thelp=\"path to input image to be OCR'd\")\n",
    "args = vars(ap.parse_args())\n",
    "\n",
    "# load the example image and convert it to RGB, invert it and adjust brightness\n",
    "image = Image.open(args[\"image\"]).convert('RGB')\n",
    "image = PIL.ImageOps.invert(image)\n",
    "image = ImageEnhance.Brightness(image)\n",
    "image = image.enhance(10)\n",
    "imageArray = numpy.array(image)\n",
    "imageArray = imageArray[:, :, ::-1].copy()\n",
    "\n",
    "filename = \"{}.png\".format(os.getpid())\n",
    "image.save(filename)\n",
    "\n",
    "# load the image as a PIL/Pillow image, apply OCR, and then delete\n",
    "# the temporary file\n",
    "text = pytesseract.image_to_string(Image.open(filename))\n",
    "os.remove(filename)\n",
    "print(text)\n",
    "\n",
    "# show the output images\n",
    "cv2.imshow(\"Image\", imageArray)\n",
    "cv2.waitKey(0)\n"
   ]
  },
  {
   "cell_type": "code",
   "execution_count": null,
   "metadata": {},
   "outputs": [],
   "source": [
    "from lxml import html\n",
    "import csv,os,json\n",
    "import requests\n",
    "from time import sleep\n",
    "\n",
    "def parse(url):\n",
    "    headers = {'User-Agent': 'Mozilla/5.0 (X11; Linux x86_64) AppleWebKit/537.36 (KHTML, like Gecko) Chrome/42.0.2311.90 Safari/537.36'}\n",
    "    page = requests.get(url,headers=headers)\n",
    "    for i in range(20):\n",
    "        sleep(3)\n",
    "        try:\n",
    "            doc = html.fromstring(page.content)\n",
    "            XPATH_NAME = '//h1[@id=\"title\"]//text()'\n",
    "            XPATH_SALE_PRICE = '//span[contains(@id,\"ourprice\") or contains(@id,\"saleprice\")]/text()'\n",
    "            XPATH_ORIGINAL_PRICE = '//td[contains(text(),\"List Price\") or contains(text(),\"M.R.P\") or contains(text(),\"Price\")]/following-sibling::td/text()'\n",
    "            XPATH_CATEGORY = '//a[@class=\"a-link-normal a-color-tertiary\"]//text()'\n",
    "            XPATH_AVAILABILITY = '//div[@id=\"availability\"]//text()'\n",
    "\n",
    "            RAW_NAME = doc.xpath(XPATH_NAME)\n",
    "            RAW_SALE_PRICE = doc.xpath(XPATH_SALE_PRICE)\n",
    "            RAW_CATEGORY = doc.xpath(XPATH_CATEGORY)\n",
    "            RAW_ORIGINAL_PRICE = doc.xpath(XPATH_ORIGINAL_PRICE)\n",
    "            RAw_AVAILABILITY = doc.xpath(XPATH_AVAILABILITY)\n",
    "\n",
    "            NAME = ' '.join(''.join(RAW_NAME).split()) if RAW_NAME else None\n",
    "            SALE_PRICE = ' '.join(''.join(RAW_SALE_PRICE).split()).strip() if RAW_SALE_PRICE else None\n",
    "            CATEGORY = ' > '.join([i.strip() for i in RAW_CATEGORY]) if RAW_CATEGORY else None\n",
    "            ORIGINAL_PRICE = ''.join(RAW_ORIGINAL_PRICE).strip() if RAW_ORIGINAL_PRICE else None\n",
    "            AVAILABILITY = ''.join(RAw_AVAILABILITY).strip() if RAw_AVAILABILITY else None\n",
    "\n",
    "            if not ORIGINAL_PRICE:\n",
    "                ORIGINAL_PRICE = SALE_PRICE\n",
    "            #retrying in case of caotcha\n",
    "            if not NAME :\n",
    "                raise ValueError('captcha')\n",
    "\n",
    "            data = {\n",
    "                    'NAME':NAME,\n",
    "                    'SALE_PRICE':SALE_PRICE,\n",
    "                    'CATEGORY':CATEGORY,\n",
    "                    'ORIGINAL_PRICE':ORIGINAL_PRICE,\n",
    "                    'AVAILABILITY':AVAILABILITY,\n",
    "                    'URL':url,\n",
    "                    }\n",
    "\n",
    "            return data\n",
    "        except Exception as e:\n",
    "            print (e)\n",
    "\n",
    "def ReadAsin():\n",
    "    # AsinList = csv.DictReader(open(os.path.join(os.path.dirname(__file__),\"Asinfeed.csv\")))\n",
    "    AsinList = ['ps4']\n",
    "    data = []\n",
    "    for index, item in enumerate(AsinList):\n",
    "        url = \"http://www.amazon.com/s?keywords=\" + item\n",
    "        data.append(parse(url))\n",
    "        sleep(5)\n",
    "        prod = data[0]\n",
    "        print(prod['NAME'], prod['ORIGINAL_PRICE'])\n",
    "ReadAsin()"
   ]
  },
  {
   "cell_type": "code",
   "execution_count": 2,
   "metadata": {},
   "outputs": [
    {
     "data": {
      "text/plain": [
       "'b\\'<!DOCTYPE html>\\\\n<!--[if lt IE 7]> <html lang=\"en-us\" class=\"a-no-js a-lt-ie9 a-lt-ie8 a-lt-ie7\"> <![endif]-->\\\\n<!--[if IE 7]>    <html lang=\"en-us\" class=\"a-no-js a-lt-ie9 a-lt-ie8\"> <![endif]-->\\\\n<!--[if IE 8]>    <html lang=\"en-us\" class=\"a-no-js a-lt-ie9\"> <![endif]-->\\\\n<!--[if gt IE 8]><!-->\\\\n<html class=\"a-no-js\" lang=\"en-us\"><!--<![endif]--><head>\\\\n<meta http-equiv=\"content-type\" content=\"text/html; charset=UTF-8\">\\\\n<meta charset=\"utf-8\">\\\\n<meta http-equiv=\"X-UA-Compatible\" content=\"IE=edge,chrome=1\">\\\\n<title dir=\"ltr\">Robot Check</title>\\\\n<meta name=\"viewport\" content=\"width=device-width\">\\\\n<link rel=\"stylesheet\" href=\"https://images-na.ssl-images-amazon.com/images/G/01/AUIClients/AmazonUI-3c913031596ca78a3768f4e934b1cc02ce238101.secure.min._V1_.css\">\\\\n<script>\\\\n\\\\nif (true === true) {\\\\n    var ue_t0 = (+ new Date()),\\\\n        ue_csm = window,\\\\n        ue = { t0: ue_t0, d: function() { return (+new Date() - ue_t0); } },\\\\n        ue_furl = \"fls-na.amazon.com\",\\\\n        ue_mid = \"ATVPDKIKX0DER\",\\\\n        ue_sid = (document.cookie.match(/session-id=([0-9-]+)/) || [])[1],\\\\n        ue_sn = \"opfcaptcha.amazon.com\",\\\\n        ue_id = \\\\\\'BWX3J534EDV25TF02BR6\\\\\\';\\\\n}\\\\n</script>\\\\n</head>\\\\n<body>\\\\n\\\\n<!--\\\\n        To discuss automated access to Amazon data please contact api-services-support@amazon.com.\\\\n        For information about migrating to our APIs refer to our Marketplace APIs at https://developer.amazonservices.com/ref=rm_c_sv, or our Product Advertising API at https://affiliate-program.amazon.com/gp/advertising/api/detail/main.html/ref=rm_c_ac for advertising use cases.\\\\n-->\\\\n\\\\n<!--\\\\nCorreios.DoNotSend\\\\n-->\\\\n\\\\n<div class=\"a-container a-padding-double-large\" style=\"min-width:350px;padding:44px 0 !important\">\\\\n\\\\n    <div class=\"a-row a-spacing-double-large\" style=\"width: 350px; margin: 0 auto\">\\\\n\\\\n        <div class=\"a-row a-spacing-medium a-text-center\"><i class=\"a-icon a-logo\"></i></div>\\\\n\\\\n        <div class=\"a-box a-alert a-alert-info a-spacing-base\">\\\\n            <div class=\"a-box-inner\">\\\\n                <i class=\"a-icon a-icon-alert\"></i>\\\\n                <h4>Enter the characters you see below</h4>\\\\n                <p class=\"a-last\">Sorry, we just need to make sure you\\\\\\'re not a robot. For best results, please make sure your browser is accepting cookies.</p>\\\\n                </div>\\\\n            </div>\\\\n\\\\n            <div class=\"a-section\">\\\\n\\\\n                <div class=\"a-box a-color-offset-background\">\\\\n                    <div class=\"a-box-inner a-padding-extra-large\">\\\\n\\\\n                        <form method=\"get\" action=\"/errors/validateCaptcha\" name=\"\">\\\\n                            <input type=hidden name=\"amzn\" value=\"yQqyTPZgpO1mZ6HwheK/EA==\" /><input type=hidden name=\"amzn-r\" value=\"&#047;s?keywords&#061;imac\" />\\\\n                            <div class=\"a-row a-spacing-large\">\\\\n                                <div class=\"a-box\">\\\\n                                    <div class=\"a-box-inner\">\\\\n                                        <h4>Type the characters you see in this image:</h4>\\\\n                                        <div class=\"a-row a-text-center\">\\\\n                                            <img src=\"https://images-na.ssl-images-amazon.com/captcha/derqnxxq/Captcha_fgjwbtjhbo.jpg\">\\\\n                                        </div>\\\\n                                        <div class=\"a-row a-spacing-base\">\\\\n                                            <div class=\"a-row\">\\\\n                                                <div class=\"a-column a-span6\">\\\\n                                                </div>\\\\n                                                <div class=\"a-column a-span6 a-span-last a-text-right\">\\\\n                                                    <a onclick=\"window.location.reload()\">Try different image</a>\\\\n                                                </div>\\\\n                                            </div>\\\\n                                            <input autocomplete=\"off\" spellcheck=\"false\" placeholder=\"Type characters\" id=\"captchacharacters\" name=\"field-keywords\" class=\"a-span12\" autocapitalize=\"off\" autocorrect=\"off\" type=\"text\">\\\\n                                        </div>\\\\n                                    </div>\\\\n                                </div>\\\\n                            </div>\\\\n\\\\n                            <div class=\"a-section a-spacing-extra-large\">\\\\n\\\\n                                <div class=\"a-row\">\\\\n                                    <span class=\"a-button a-button-primary a-span12\">\\\\n                                        <span class=\"a-button-inner\">\\\\n                                            <button type=\"submit\" class=\"a-button-text\">Continue shopping</button>\\\\n                                        </span>\\\\n                                    </span>\\\\n                                </div>\\\\n\\\\n                            </div>\\\\n                        </form>\\\\n\\\\n                    </div>\\\\n                </div>\\\\n\\\\n            </div>\\\\n\\\\n        </div>\\\\n\\\\n        <div class=\"a-divider a-divider-section\"><div class=\"a-divider-inner\"></div></div>\\\\n\\\\n        <div class=\"a-text-center a-spacing-small a-size-mini\">\\\\n            <a href=\"http://www.amazon.com/gp/help/customer/display.html/ref=footer_cou?ie=UTF8&nodeId=508088\">Conditions of Use</a>\\\\n            <span class=\"a-letter-space\"></span>\\\\n            <span class=\"a-letter-space\"></span>\\\\n            <span class=\"a-letter-space\"></span>\\\\n            <span class=\"a-letter-space\"></span>\\\\n            <a href=\"http://www.amazon.com/gp/help/customer/display.html/ref=footer_privacy?ie=UTF8&nodeId=468496\">Privacy Policy</a>\\\\n        </div>\\\\n        <div class=\"a-text-center a-size-mini a-color-secondary\">\\\\n          &copy; 1996-2014, Amazon.com, Inc. or its affiliates\\\\n          <script>\\\\n           if (true === true) {\\\\n             document.write(\\\\\\'<img src=\"https://fls-na.amaz\\\\\\'+\\\\\\'on.com/\\\\\\'+\\\\\\'1/oc-csi/1/OP/requestId=BWX3J534EDV25TF02BR6&js=1\" />\\\\\\');\\\\n           };\\\\n          </script>\\\\n          <noscript>\\\\n            <img src=\"https://fls-na.amazon.com/1/oc-csi/1/OP/requestId=BWX3J534EDV25TF02BR6&js=0\" />\\\\n          </noscript>\\\\n        </div>\\\\n    </div>\\\\n    <script>\\\\n    if (true === true) {\\\\n        var elem = document.createElement(\"script\");\\\\n        elem.src = \"https://images-na.ssl-images-amazon.com/images/G/01/csminstrumentation/csm-captcha-instrumentation.min._V\" + (+ new Date()) + \"_.js\";\\\\n        document.getElementsByTagName(\\\\\\'head\\\\\\')[0].appendChild(elem);\\\\n    }\\\\n    </script>\\\\n</body></html>\\\\n\\''"
      ]
     },
     "execution_count": 2,
     "metadata": {},
     "output_type": "execute_result"
    }
   ],
   "source": [
    "url = 'http://www.amazon.com/s?keywords=imac'\n",
    "text = requests.get(url).content\n",
    "text = str(text)\n",
    "text"
   ]
  },
  {
   "cell_type": "code",
   "execution_count": 10,
   "metadata": {
    "collapsed": true
   },
   "outputs": [],
   "source": [
    "### parsing html from example search using regex\n",
    "import re"
   ]
  },
  {
   "cell_type": "code",
   "execution_count": 13,
   "metadata": {
    "collapsed": true
   },
   "outputs": [],
   "source": [
    "pattern = re.compile(r\"http://www.amazon.com/.*/dp/(.*?)\\\"\")"
   ]
  },
  {
   "cell_type": "code",
   "execution_count": 14,
   "metadata": {},
   "outputs": [
    {
     "data": {
      "text/plain": [
       "[]"
      ]
     },
     "execution_count": 14,
     "metadata": {},
     "output_type": "execute_result"
    }
   ],
   "source": [
    "re.findall(pattern, text)\n"
   ]
  },
  {
   "cell_type": "code",
   "execution_count": null,
   "metadata": {
    "collapsed": true
   },
   "outputs": [],
   "source": []
  }
 ],
 "metadata": {
  "kernelspec": {
   "display_name": "Python 3",
   "language": "python",
   "name": "python3"
  }
 },
 "nbformat": 4,
 "nbformat_minor": 2
}
