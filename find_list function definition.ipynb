{
 "cells": [
  {
   "cell_type": "code",
   "execution_count": 1,
   "metadata": {},
   "outputs": [
    {
     "name": "stdout",
     "output_type": "stream",
     "text": [
      "Please enter 'M' to see men's choices or 'W' to see women's choices: m\n"
     ]
    },
    {
     "ename": "NameError",
     "evalue": "name 'shopping_mens' is not defined",
     "output_type": "error",
     "traceback": [
      "\u001b[1;31m---------------------------------------------------------------------------\u001b[0m",
      "\u001b[1;31mNameError\u001b[0m                                 Traceback (most recent call last)",
      "\u001b[1;32m<ipython-input-1-6ebe679fbade>\u001b[0m in \u001b[0;36m<module>\u001b[1;34m()\u001b[0m\n\u001b[0;32m     25\u001b[0m         \u001b[1;32mreturn\u001b[0m \u001b[0mshopping_womens\u001b[0m\u001b[1;33m\u001b[0m\u001b[0m\n\u001b[0;32m     26\u001b[0m \u001b[1;33m\u001b[0m\u001b[0m\n\u001b[1;32m---> 27\u001b[1;33m \u001b[0moptions\u001b[0m \u001b[1;33m=\u001b[0m \u001b[0mfind_list\u001b[0m\u001b[1;33m(\u001b[0m \u001b[0mcustomer_choice\u001b[0m \u001b[1;33m)\u001b[0m\u001b[1;33m\u001b[0m\u001b[0m\n\u001b[0m\u001b[0;32m     28\u001b[0m \u001b[0mprint\u001b[0m\u001b[1;33m(\u001b[0m\u001b[0moptions\u001b[0m\u001b[1;33m)\u001b[0m\u001b[1;33m\u001b[0m\u001b[0m\n",
      "\u001b[1;32m<ipython-input-1-6ebe679fbade>\u001b[0m in \u001b[0;36mfind_list\u001b[1;34m(keyword)\u001b[0m\n\u001b[0;32m     21\u001b[0m     \u001b[0mcustomer_choice\u001b[0m \u001b[1;33m=\u001b[0m \u001b[0mkeyword\u001b[0m\u001b[1;33m.\u001b[0m\u001b[0mlower\u001b[0m\u001b[1;33m(\u001b[0m\u001b[1;33m)\u001b[0m\u001b[1;33m\u001b[0m\u001b[0m\n\u001b[0;32m     22\u001b[0m     \u001b[1;32mif\u001b[0m \u001b[0mkeyword\u001b[0m \u001b[1;33m==\u001b[0m \u001b[1;34m\"m\"\u001b[0m\u001b[1;33m:\u001b[0m\u001b[1;33m\u001b[0m\u001b[0m\n\u001b[1;32m---> 23\u001b[1;33m         \u001b[1;32mreturn\u001b[0m \u001b[0mshopping_mens\u001b[0m\u001b[1;33m\u001b[0m\u001b[0m\n\u001b[0m\u001b[0;32m     24\u001b[0m     \u001b[1;32melse\u001b[0m\u001b[1;33m:\u001b[0m\u001b[1;33m\u001b[0m\u001b[0m\n\u001b[0;32m     25\u001b[0m         \u001b[1;32mreturn\u001b[0m \u001b[0mshopping_womens\u001b[0m\u001b[1;33m\u001b[0m\u001b[0m\n",
      "\u001b[1;31mNameError\u001b[0m: name 'shopping_mens' is not defined"
     ]
    }
   ],
   "source": [
    "[\n",
    "     {\n",
    "        \"NAME\": \"G-Technology G-SPEED eS PRO High-Performance Fail-Safe RAID Solution for HD/2K Production 8TB (0G01873)\",\n",
    "        \"SALE_PRICE\": 0,\n",
    "        \"CATEGORY\": \"Electronics > Computers & Accessories > Data Storage > External Hard Drives\",\n",
    "        \"ORIGINAL_PRICE\": 0,\n",
    "        \"AVAILABILITY\": \"Available from these sellers.\",\n",
    "        \"URL\": \"http://www.amazon.com/dp/B0046UR4F4\"\n",
    "    },\n",
    "    {\n",
    "        \"NAME\": \"G-Technology G-RAID USB Removable Dual Drive Storage System 8TB (0G04069)\",\n",
    "        \"SALE_PRICE\": \"$529.95\",\n",
    "        \"CATEGORY\": \"Electronics > Computers & Accessories > Data Storage\",\n",
    "        \"ORIGINAL_PRICE\": \"$529.95\",\n",
    "        \"AVAILABILITY\": \"Only 1 left in stock - order soon.\",\n",
    "        \"URL\": \"http://www.amazon.com/dp/B00UZKG8QU\"\n",
    "    }\n",
    "]\n",
    "customer_choice = input(\"Please enter 'M' to see men's choices or 'W' to see women's choices: \")\n",
    "def find_list(keyword):\n",
    "    customer_choice = keyword.lower()\n",
    "    if keyword == \"m\":\n",
    "        return shopping_mens\n",
    "    else:\n",
    "        return shopping_womens\n",
    "    \n",
    "options = find_list( customer_choice )        \n",
    "print(options)"
   ]
  },
  {
   "cell_type": "code",
   "execution_count": 3,
   "metadata": {},
   "outputs": [
    {
     "name": "stdout",
     "output_type": "stream",
     "text": [
      "Help on method_descriptor:\n",
      "\n",
      "get(...)\n",
      "    D.get(k[,d]) -> D[k] if k in D, else d.  d defaults to None.\n",
      "\n"
     ]
    }
   ],
   "source": [
    "shopping_mens = {\n",
    "'tops': {\n",
    "    'classic_trench_coat': [{'store': 'Amazon'}, {'brand': 'Banana Republic'}, {'color': 'creme'}],\n",
    "    'cashmere_sweater': [{'store': 'Amazon'}, {'brand': 'Lacoste'}, {'color': 'green'}],\n",
    "},\n",
    "\n",
    "'bottoms': {\n",
    "    'denim_jeans': [{'store': 'Amazon'}, {'brand': 'Levi'}, {'color': 'dark wash'}]\n",
    "  \n",
    "    \n",
    "},\n",
    "'accessories': {},\n",
    "}\n",
    "shopping_womens = {\n",
    "'tops': {\n",
    "    'glam_trench_coat': [{'store': 'Amazon'}, {'brand': 'Banana Republic'}, {'color': 'creme'}],\n",
    "    'wool_sweater': [{'store': 'Amazon'}, {'brand': 'Lacoste'}, {'color': 'green'}],\n",
    "},\n",
    "\n",
    "'bottoms': {\n",
    "    'dressy_jeans': [{'store': 'Amazon'}, {'brand': 'Levi'}, {'color': 'dark wash'}]\n",
    "  \n",
    "    \n",
    "},\n",
    "'accessories': {},\n",
    "}\n"
   ]
  },
  {
   "cell_type": "code",
   "execution_count": null,
   "metadata": {
    "collapsed": true
   },
   "outputs": [],
   "source": []
  }
 ],
 "metadata": {
  "kernelspec": {
   "display_name": "Python 3",
   "language": "python",
   "name": "python3"
  },
  "language_info": {
   "codemirror_mode": {
    "name": "ipython",
    "version": 3
   },
   "file_extension": ".py",
   "mimetype": "text/x-python",
   "name": "python",
   "nbconvert_exporter": "python",
   "pygments_lexer": "ipython3",
   "version": "3.6.1"
  }
 },
 "nbformat": 4,
 "nbformat_minor": 2
}
