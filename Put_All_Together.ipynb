{
 "cells": [
  {
   "cell_type": "code",
   "execution_count": 1,
   "metadata": {
    "collapsed": true
   },
   "outputs": [],
   "source": [
    "from lxml import html\n",
    "import json\n",
    "import requests\n"
   ]
  },
  {
   "cell_type": "code",
   "execution_count": 2,
   "metadata": {
    "collapsed": true
   },
   "outputs": [],
   "source": [
    "apparel = {\n",
    "    \"women\": {\n",
    "        \"tops\" : [\"B075FLTQYL\", \"B01J7QP7QY\", \"B06XBJBGHF\", \"B073H2XXZZ\", \"B07571M8QP\", \"B00ZUNH1V8\"],\n",
    "        \"bottoms\" : [\"B071KCST2M\", \"B01DTZV3GC\", \"B00B5W8310\", \"B01DVR2X76\", \"B01MQWGKL0\", \"B06XRXZCK4\", \"B01MYDQV2P\"],\n",
    "        \"accessories\" : [\"B01LWUNIPA\",\"B074HXSLBH\", \"B072C8G68X\", \"B075QVBTNJ\", \"B0077G0VZE\", \"B075MX1TV9\", \"B00GBCTSYU\", \"B01N8PBVGL\", \"B0748BKXJB\"]\n",
    "    },\n",
    "    \"men\" :{\n",
    "        \"tops\" : [\"B06X3SGD2B\", \"B01B3GMNU4\", \"B00TUMS344\", \"B00GOZPM44\", \"B072MS3WW5\", \"B073QGVRBH\", \"B0741C4QJ3\"],\n",
    "        \"bottoms\" : [\"B073XD9NH2\"],\n",
    "        \"accessories\" : [\"B072C8G68X\", \"B0748BKXJB\", \"B01N8PBVGL\"]\n",
    "    }\n",
    "}"
   ]
  },
  {
   "cell_type": "code",
   "execution_count": 3,
   "metadata": {
    "collapsed": true
   },
   "outputs": [],
   "source": [
    "## 1.1.2 - Shorthand code for products\n",
    "m_t = apparel[\"men\"][\"tops\"]\n",
    "w_t = apparel[\"women\"][\"tops\"]\n",
    "m_b = apparel[\"men\"][\"bottoms\"]\n",
    "w_b = apparel[\"women\"][\"bottoms\"]\n",
    "m_a = apparel[\"men\"][\"accessories\"]\n",
    "w_a = apparel[\"women\"][\"accessories\"]\n",
    "## need to concatenate lists for unisex\n",
    "u_t = m_t + w_t\n",
    "u_b = m_b + w_b\n",
    "u_a = m_a + w_a\n",
    "\n",
    "def search(x):\n",
    "    ## 2.2.2 - conditional formatting based on category  \n",
    "    if x == w_t:\n",
    "        print(\"Searching For Women's Tops\")\n",
    "    if x == w_b:\n",
    "        print(\"Searching For Women's Bottoms\")\n",
    "    if x == w_a:\n",
    "        print(\"Searching For Women's Accessories\")\n",
    "    if x == m_t:\n",
    "        print(\"Searching For Men's Tops\")\n",
    "    if x == m_b:\n",
    "        print(\"Searching For Men's Bottoms\")\n",
    "    if x == m_a:\n",
    "        print(\"Searching For Men's Accessories\")\n",
    "    if x == u_t:\n",
    "        print(\"Searching For Tops\")\n",
    "    if x == u_b:\n",
    "        print(\"Searching For Bottoms\")\n",
    "    if x == u_a:\n",
    "        print(\"Searching For Accessories\")"
   ]
  },
  {
   "cell_type": "code",
   "execution_count": 4,
   "metadata": {
    "collapsed": true
   },
   "outputs": [],
   "source": [
    "from tkinter import *\n",
    "root = Tk()\n",
    "\n",
    "def mT(event):\n",
    "    mT = search(m_t)\n",
    "    extractData(mT)\n",
    "\n",
    "def wT(event):\n",
    "    wT = search(w_t)\n",
    "    extractData(wT)\n",
    "        \n",
    "def uT(event):\n",
    "    uT = search(u_t)\n",
    "    extractData(uT)"
   ]
  },
  {
   "cell_type": "code",
   "execution_count": null,
   "metadata": {},
   "outputs": [
    {
     "name": "stdout",
     "output_type": "stream",
     "text": [
      "Please enter your budget: 800\n",
      "Who are you shopping for: men, women, children, everyone or enter 'quit': m\n",
      "What would you like to see: tops, bottoms, accessories, or everything? tops\n",
      "None\n",
      "What would you like to see: tops, bottoms, accessories, or everything? quit\n",
      "None\n"
     ]
    }
   ],
   "source": [
    "shopping_cart = []\n",
    "budget = input(\"Please enter your budget: \").strip('$')\n",
    "start_shopping = input(\"Who are you shopping for: men, women, children, everyone or enter 'quit': \").lower()\n",
    "\n",
    "#Don't forget to consider some runtime errors and create exceptions for those    \n",
    "while start_shopping != 'quit':\n",
    "    if start_shopping.startswith('m'):\n",
    "        x = input(\"What would you like to see: tops, bottoms, accessories, or everything? \")\n",
    "        x = search(x)        \n",
    "        print(x) #later change this to tkinter display of item\n",
    "        #'please enter key to add to your shopping cart (shopping_cart)'\n",
    "        # user function defn to allow user to subtract item from their budget and / or return to master start_shopping list\n",
    "            \n",
    "    elif start_shopping.startswith('w'):\n",
    "        x = input(\"What would you like to see: tops, bottoms, accessories, or everything? \")\n",
    "        x = search(x)        \n",
    "        print(x)\n",
    "            \n",
    "    elif start_shopping.startswith('c'):\n",
    "        x = input(\"What would you like to see: tops, bottoms, accessories, or everything? \")\n",
    "        x = search(x)        \n",
    "        print(x)\n",
    "    else:\n",
    "        x = input(\"What would you like to see: tops, bottoms, accessories, or everything? \")\n",
    "        x = search(x)        \n",
    "        print(x)\n",
    "        \n",
    "print(\"Thank you for shopping with us. Your total is:\")"
   ]
  },
  {
   "cell_type": "code",
   "execution_count": null,
   "metadata": {
    "collapsed": true
   },
   "outputs": [],
   "source": []
  }
 ],
 "metadata": {
  "kernelspec": {
   "display_name": "Python 3",
   "language": "python",
   "name": "python3"
  },
  "language_info": {
   "codemirror_mode": {
    "name": "ipython",
    "version": 3
   },
   "file_extension": ".py",
   "mimetype": "text/x-python",
   "name": "python",
   "nbconvert_exporter": "python",
   "pygments_lexer": "ipython3",
   "version": "3.6.1"
  }
 },
 "nbformat": 4,
 "nbformat_minor": 2
}
