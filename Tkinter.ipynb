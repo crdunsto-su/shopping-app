{
 "cells": [
  {
   "cell_type": "code",
   "execution_count": null,
   "metadata": {
    "collapsed": true
   },
   "outputs": [],
   "source": [
    "from tkinter import *\n",
    "root = Tk()\n",
    "\n",
    "## make an invisibile frame to begin with\n",
    "topFrame = Frame(root)\n",
    "topFrame.pack()\n",
    "\n",
    "## bottom frame\n",
    "bottomFrame = Frame(root)\n",
    "bottomFrame.pack(side=BOTTOM)\n",
    "\n",
    "## creating elements\n",
    "button1 = Label(topFrame, text=\"Button 1\", fg=\"red\", bg=\"white\")\n",
    "button2 = Button(topFrame, text=\"Button 2\", fg=\"blue\")\n",
    "button3 = Button(topFrame, text=\"Button 3\", fg=\"green\")\n",
    "button4 = Button(bottomFrame, text=\"Button 4\", fg=\"purple\")\n",
    "\n",
    "## adding elements\n",
    "button1.pack(side=LEFT)\n",
    "button2.pack(side=LEFT)\n",
    "button3.pack(side=LEFT)\n",
    "button4.pack(side=BOTTOM)\n",
    "\n",
    "root.mainloop()"
   ]
  },
  {
   "cell_type": "code",
   "execution_count": 2,
   "metadata": {
    "collapsed": true
   },
   "outputs": [],
   "source": [
    "from tkinter import *\n",
    "root = Tk()\n",
    "\n",
    "## Frames are basically containers or divs.\n",
    "topFrame = Frame(root)\n",
    "bottomFrame = Frame(root)\n",
    "topFrame.pack()\n",
    "bottomFrame.pack(side=BOTTOM)\n",
    "\n",
    "## creating elements\n",
    "label_1 = Label(topFrame, text=\"Name\")\n",
    "label_2 = Label(topFrame, text=\"Password\")\n",
    "entry_1 = Entry(topFrame)\n",
    "entry_2 = Entry(topFrame)\n",
    "\n",
    "## placing elements using grid\n",
    "label_1.grid(row=\"0\", sticky=\"E\")\n",
    "label_2.grid(row=\"1\", sticky=\"E\")\n",
    "entry_1.grid(row=\"0\", column=\"1\")\n",
    "entry_2.grid(row=\"1\", column=\"1\")\n",
    "\n",
    "## new checkbox element example\n",
    "c = Checkbutton(bottomFrame)\n",
    "c_text = Label(bottomFrame, text=\"Keep me logged in.\")\n",
    "\n",
    "c.grid(row=\"0\")\n",
    "c_text.grid(row=\"0\", column=\"1\")\n",
    "\n",
    "root.mainloop()"
   ]
  },
  {
   "cell_type": "code",
   "execution_count": 3,
   "metadata": {
    "collapsed": true
   },
   "outputs": [],
   "source": [
    "from tkinter import *\n",
    "root = Tk()\n",
    "\n",
    "## pass event through your function, such as a:\n",
    "## button click, submit form, right-click, etc.\n",
    "def printName(event):\n",
    "    text = Label(text=\"Hello\")\n",
    "    text.pack()\n",
    "    \n",
    "\n",
    "## functions and widgets together\n",
    "button1 = Button(root, text=\"Print my name!!!\", fg=\"blue\", bg=\"red\")\n",
    "## bind event to button with bind. \"-1\" is a left-click\n",
    "button1.bind(\"<Button-1>\", printName)\n",
    "button1.pack()\n",
    "\n",
    "root.mainloop()"
   ]
  },
  {
   "cell_type": "code",
   "execution_count": 45,
   "metadata": {},
   "outputs": [
    {
     "name": "stderr",
     "output_type": "stream",
     "text": [
      "Exception in Tkinter callback\n",
      "Traceback (most recent call last):\n",
      "  File \"c:\\programdata\\miniconda3\\lib\\tkinter\\__init__.py\", line 1699, in __call__\n",
      "    return self.func(*args)\n",
      "  File \"<ipython-input-45-d95d105b1efb>\", line 17, in paste\n",
      "    new = genContent()\n",
      "  File \"<ipython-input-45-d95d105b1efb>\", line 10, in genContent\n",
      "    e.grid(row=i, column=j, sticky=NSEW)\n",
      "  File \"c:\\programdata\\miniconda3\\lib\\tkinter\\__init__.py\", line 2220, in grid_configure\n",
      "    + self._options(cnf, kw))\n",
      "_tkinter.TclError: cannot use geometry manager grid inside . which already has slaves managed by pack\n"
     ]
    }
   ],
   "source": [
    "from tkinter import *\n",
    "root = Tk()\n",
    "\n",
    "def genContent():\n",
    "    rows = []\n",
    "    for i in range(3):\n",
    "        cols = []\n",
    "        for j in range(3):\n",
    "            e = Label(text=\"hello\")\n",
    "            e.grid(row=i, column=j, sticky=NSEW)\n",
    "            cols.append(e)\n",
    "        rows.append(cols)\n",
    "    for index, item in enumerate(rows):\n",
    "        for col in item:\n",
    "            col.get()\n",
    "    \n",
    "one = Frame(root)\n",
    "two = Frame(root)\n",
    "one.pack()\n",
    "two.pack(side=BOTTOM)\n",
    "\n",
    "button = Button(text='Fetch', command=paste)\n",
    "button.pack()\n",
    "root.mainloop()"
   ]
  },
  {
   "cell_type": "code",
   "execution_count": 20,
   "metadata": {
    "collapsed": true
   },
   "outputs": [],
   "source": [
    "import tkinter as tk\n",
    "\n",
    "\n",
    "def button_pressed():\n",
    "    # put text\n",
    "    entry['text'] = \"Hello World!\"\n",
    "    # run clear_label after 2000ms (2s)\n",
    "    root.after(2000, clear_label)\n",
    "\n",
    "def clear_label():\n",
    "    # remove text\n",
    "    entry['text'] = \"\"\n",
    "\n",
    "\n",
    "root = tk.Tk()\n",
    "\n",
    "entry = tk.Entry(root) # empty label for text\n",
    "entry.pack()\n",
    "\n",
    "button = tk.Button(root, text=\"Press Button\", command=button_pressed)\n",
    "button.pack()\n",
    "\n",
    "root.mainloop()"
   ]
  },
  {
   "cell_type": "code",
   "execution_count": 21,
   "metadata": {
    "collapsed": true
   },
   "outputs": [],
   "source": [
    "import tkinter as tk\n",
    "\n",
    "\n",
    "def button_pressed():\n",
    "    label = tk.Label(root, text=\"Hello World!\")\n",
    "    label.pack()\n",
    "    root.after(2000, label.destroy)\n",
    "\n",
    "\n",
    "root = tk.Tk()\n",
    "\n",
    "button = tk.Button(root, text=\"Press Button\", command=button_pressed)\n",
    "button.pack()\n",
    "\n",
    "root.mainloop()"
   ]
  }
 ],
 "metadata": {
  "kernelspec": {
   "display_name": "Python 3",
   "language": "python",
   "name": "python3"
  },
  "language_info": {
   "codemirror_mode": {
    "name": "ipython",
    "version": 3
   },
   "file_extension": ".py",
   "mimetype": "text/x-python",
   "name": "python",
   "nbconvert_exporter": "python",
   "pygments_lexer": "ipython3",
   "version": "3.6.1"
  }
 },
 "nbformat": 4,
 "nbformat_minor": 2
}
