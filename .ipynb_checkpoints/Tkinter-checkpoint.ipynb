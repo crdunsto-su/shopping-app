{
 "cells": [
  {
   "cell_type": "code",
   "execution_count": 43,
   "metadata": {},
   "outputs": [],
   "source": [
    "from tkinter import *\n",
    "root = Tk()"
   ]
  },
  {
   "cell_type": "code",
   "execution_count": 44,
   "metadata": {
    "collapsed": true
   },
   "outputs": [],
   "source": [
    "## make an invisibile frame to begin with\n",
    "topFrame = Frame(root)\n",
    "topFrame.pack()\n",
    "\n",
    "## bottom frame\n",
    "bottomFrame = Frame(root)\n",
    "bottomFrame.pack(side=BOTTOM)"
   ]
  },
  {
   "cell_type": "code",
   "execution_count": 45,
   "metadata": {},
   "outputs": [
    {
     "ename": "SyntaxError",
     "evalue": "invalid syntax (<ipython-input-45-86ee5845ef52>, line 2)",
     "output_type": "error",
     "traceback": [
      "\u001b[1;36m  File \u001b[1;32m\"<ipython-input-45-86ee5845ef52>\"\u001b[1;36m, line \u001b[1;32m2\u001b[0m\n\u001b[1;33m    button1 = Label(topFrame, text=\"Button 1\", fg=\"red\" bg=\"white\")\u001b[0m\n\u001b[1;37m                                                         ^\u001b[0m\n\u001b[1;31mSyntaxError\u001b[0m\u001b[1;31m:\u001b[0m invalid syntax\n"
     ]
    }
   ],
   "source": [
    "## adding elements\n",
    "button1 = Label(topFrame, text=\"Button 1\", fg=\"red\", bg=\"white\")\n",
    "button2 = Button(topFrame, text=\"Button 2\", fg=\"blue\")\n",
    "button3 = Button(topFrame, text=\"Button 3\", fg=\"green\")\n",
    "button4 = Button(bottomFrame, text=\"Button 4\", fg=\"purple\")\n",
    "\n",
    "button1.pack(side=LEFT)\n",
    "button2.pack(side=LEFT)\n",
    "button3.pack(side=LEFT)\n",
    "button4.pack(side=BOTTOM)"
   ]
  },
  {
   "cell_type": "code",
   "execution_count": 46,
   "metadata": {},
   "outputs": [],
   "source": [
    "root.mainloop()"
   ]
  },
  {
   "cell_type": "code",
   "execution_count": null,
   "metadata": {
    "collapsed": true
   },
   "outputs": [],
   "source": []
  }
 ],
 "metadata": {
  "kernelspec": {
   "display_name": "Python 3",
   "language": "python",
   "name": "python3"
  },
  "language_info": {
   "codemirror_mode": {
    "name": "ipython",
    "version": 3
   },
   "file_extension": ".py",
   "mimetype": "text/x-python",
   "name": "python",
   "nbconvert_exporter": "python",
   "pygments_lexer": "ipython3",
   "version": "3.6.1"
  }
 },
 "nbformat": 4,
 "nbformat_minor": 2
}
