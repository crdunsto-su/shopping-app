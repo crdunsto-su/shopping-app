{
 "cells": [
  {
   "cell_type": "code",
   "execution_count": null,
   "metadata": {
    "collapsed": true
   },
   "outputs": [],
   "source": [
    "# show all ip addresses\n",
    "ip_addresses = []\n",
    "with open (\"NYC2-IP-Addresses.txt\", \"r\") as f:\n",
    "    for lines in f.readlines():\n",
    "        lines = lines.strip()\n",
    "        ip_addresses.append(lines)\n",
    "\n",
    "\n",
    "    url = \"amzn1.devportal.webapp.f87b7d4654f3406982da7bb69298d84b\"\n",
    "    r = requests.get(url)\n",
    "    geoip_data = json.loads(r.text)\n",
    "\n",
    "    ip = geoip_data['ip']\n",
    "    city = geoip_data['city']\n",
    "    state = geoip_data['region_code']\n",
    "    location = city + \", \" + state\n",
    "    full = ip + \": \" + location\n",
    "    print(full)\n",
    "\n",
    "def ip_cities():\n",
    "    for index, item in enumerate(ip_addresses):\n",
    "        index = index + 1\n",
    "        ip = item\n",
    "        geoiplookup(ip)\n",
    "\n",
    "# then test them here\n"
   ]
  },
  {
   "cell_type": "code",
   "execution_count": 30,
   "metadata": {},
   "outputs": [
    {
     "name": "stdout",
     "output_type": "stream",
     "text": [
      "Processing: http://www.amazon.com/dp/B00GBCTSYU\n",
      "Calvin Klein Women's Modern Cotton Bralette $11.16 - $58.00 Lower price available on select options\n"
     ]
    }
   ],
   "source": [
    "#  example from amazon_product.py\n",
    "\n",
    "from lxml import html\n",
    "import csv,os,json\n",
    "import requests\n",
    "from time import sleep\n",
    "\n",
    "def parse(url):\n",
    "    headers = {'User-Agent': 'Mozilla/5.0 (X11; Linux x86_64) AppleWebKit/537.36 (KHTML, like Gecko) Chrome/42.0.2311.90 Safari/537.36'}\n",
    "    page = requests.get(url,headers=headers)\n",
    "    for i in range(20):\n",
    "        sleep(3)\n",
    "        try:\n",
    "            doc = html.fromstring(page.content)\n",
    "            XPATH_NAME = '//h1[@id=\"title\"]//text()'\n",
    "            XPATH_SALE_PRICE = '//span[contains(@id,\"ourprice\") or contains(@id,\"saleprice\")]/text()'\n",
    "            XPATH_ORIGINAL_PRICE = '//td[contains(text(),\"List Price\") or contains(text(),\"M.R.P\") or contains(text(),\"Price\")]/following-sibling::td/text()'\n",
    "            XPATH_CATEGORY = '//a[@class=\"a-link-normal a-color-tertiary\"]//text()'\n",
    "            XPATH_AVAILABILITY = '//div[@id=\"availability\"]//text()'\n",
    "\n",
    "            RAW_NAME = doc.xpath(XPATH_NAME)\n",
    "            RAW_SALE_PRICE = doc.xpath(XPATH_SALE_PRICE)\n",
    "            RAW_CATEGORY = doc.xpath(XPATH_CATEGORY)\n",
    "            RAW_ORIGINAL_PRICE = doc.xpath(XPATH_ORIGINAL_PRICE)\n",
    "            RAw_AVAILABILITY = doc.xpath(XPATH_AVAILABILITY)\n",
    "\n",
    "            NAME = ' '.join(''.join(RAW_NAME).split()) if RAW_NAME else None\n",
    "            SALE_PRICE = ' '.join(''.join(RAW_SALE_PRICE).split()).strip() if RAW_SALE_PRICE else None\n",
    "            CATEGORY = ' > '.join([i.strip() for i in RAW_CATEGORY]) if RAW_CATEGORY else None\n",
    "            ORIGINAL_PRICE = ''.join(RAW_ORIGINAL_PRICE).strip() if RAW_ORIGINAL_PRICE else None\n",
    "            AVAILABILITY = ''.join(RAw_AVAILABILITY).strip() if RAw_AVAILABILITY else None\n",
    "\n",
    "            if not ORIGINAL_PRICE:\n",
    "                ORIGINAL_PRICE = SALE_PRICE\n",
    "            #retrying in case of caotcha\n",
    "            if not NAME :\n",
    "                raise ValueError('captcha')\n",
    "\n",
    "            data = {\n",
    "                    'NAME':NAME,\n",
    "                    'SALE_PRICE':SALE_PRICE,\n",
    "                    'CATEGORY':CATEGORY,\n",
    "                    'ORIGINAL_PRICE':ORIGINAL_PRICE,\n",
    "                    'AVAILABILITY':AVAILABILITY,\n",
    "                    'URL':url,\n",
    "                    }\n",
    "\n",
    "            return data\n",
    "        except Exception as e:\n",
    "            print (e)\n",
    "\n",
    "def ReadAsin():\n",
    "    # AsinList = csv.DictReader(open(os.path.join(os.path.dirname(__file__),\"Asinfeed.csv\")))\n",
    "    AsinList = ['B00GBCTSYU']\n",
    "    data = []\n",
    "    for index, item in enumerate(AsinList):\n",
    "        url = \"http://www.amazon.com/dp/\" + item\n",
    "        data.append(parse(url))\n",
    "        sleep(5)\n",
    "        prod = data[0]\n",
    "        print(prod['NAME'], prod['ORIGINAL_PRICE'])\n",
    "ReadAsin()"
   ]
  },
  {
   "cell_type": "code",
   "execution_count": null,
   "metadata": {
    "collapsed": true
   },
   "outputs": [],
   "source": []
  }
 ],
 "metadata": {
  "kernelspec": {
   "display_name": "Python 3",
   "language": "python",
   "name": "python3"
  },
  "language_info": {
   "codemirror_mode": {
    "name": "ipython",
    "version": 3
   },
   "file_extension": ".py",
   "mimetype": "text/x-python",
   "name": "python",
   "nbconvert_exporter": "python",
   "pygments_lexer": "ipython3",
   "version": "3.6.1"
  }
 },
 "nbformat": 4,
 "nbformat_minor": 2
}
