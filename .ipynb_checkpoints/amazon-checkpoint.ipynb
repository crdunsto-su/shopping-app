{
 "cells": [
  {
   "cell_type": "code",
   "execution_count": null,
   "metadata": {
    "collapsed": true
   },
   "outputs": [],
   "source": []
  },
  {
   "cell_type": "code",
   "execution_count": 1,
   "metadata": {},
   "outputs": [
    {
     "name": "stdout",
     "output_type": "stream",
     "text": [
      "Calvin Klein Women's Modern Cotton Bralette $11.16 - $58.00 Lower price available on select options\n"
     ]
    }
   ],
   "source": [
    "from lxml import html\n",
    "import csv,os,json\n",
    "import requests\n",
    "from time import sleep\n",
    "\n",
    "def parse(url):\n",
    "    headers = {'User-Agent': 'Mozilla/5.0 (X11; Linux x86_64) AppleWebKit/537.36 (KHTML, like Gecko) Chrome/42.0.2311.90 Safari/537.36'}\n",
    "    page = requests.get(url,headers=headers)\n",
    "    for i in range(20):\n",
    "        sleep(3)\n",
    "        try:\n",
    "            doc = html.fromstring(page.content)\n",
    "            XPATH_NAME = '//h1[@id=\"title\"]//text()'\n",
    "            XPATH_SALE_PRICE = '//span[contains(@id,\"ourprice\") or contains(@id,\"saleprice\")]/text()'\n",
    "            XPATH_ORIGINAL_PRICE = '//td[contains(text(),\"List Price\") or contains(text(),\"M.R.P\") or contains(text(),\"Price\")]/following-sibling::td/text()'\n",
    "            XPATH_CATEGORY = '//a[@class=\"a-link-normal a-color-tertiary\"]//text()'\n",
    "            XPATH_AVAILABILITY = '//div[@id=\"availability\"]//text()'\n",
    "\n",
    "            RAW_NAME = doc.xpath(XPATH_NAME)\n",
    "            RAW_SALE_PRICE = doc.xpath(XPATH_SALE_PRICE)\n",
    "            RAW_CATEGORY = doc.xpath(XPATH_CATEGORY)\n",
    "            RAW_ORIGINAL_PRICE = doc.xpath(XPATH_ORIGINAL_PRICE)\n",
    "            RAw_AVAILABILITY = doc.xpath(XPATH_AVAILABILITY)\n",
    "\n",
    "            NAME = ' '.join(''.join(RAW_NAME).split()) if RAW_NAME else None\n",
    "            SALE_PRICE = ' '.join(''.join(RAW_SALE_PRICE).split()).strip() if RAW_SALE_PRICE else None\n",
    "            CATEGORY = ' > '.join([i.strip() for i in RAW_CATEGORY]) if RAW_CATEGORY else None\n",
    "            ORIGINAL_PRICE = ''.join(RAW_ORIGINAL_PRICE).strip() if RAW_ORIGINAL_PRICE else None\n",
    "            AVAILABILITY = ''.join(RAw_AVAILABILITY).strip() if RAw_AVAILABILITY else None\n",
    "\n",
    "            if not ORIGINAL_PRICE:\n",
    "                ORIGINAL_PRICE = SALE_PRICE\n",
    "            #retrying in case of caotcha\n",
    "            if not NAME :\n",
    "                raise ValueError('captcha')\n",
    "\n",
    "            data = {\n",
    "                    'NAME':NAME,\n",
    "                    'SALE_PRICE':SALE_PRICE,\n",
    "                    'CATEGORY':CATEGORY,\n",
    "                    'ORIGINAL_PRICE':ORIGINAL_PRICE,\n",
    "                    'AVAILABILITY':AVAILABILITY,\n",
    "                    'URL':url,\n",
    "                    }\n",
    "\n",
    "            return data\n",
    "        except Exception as e:\n",
    "            print (e)\n",
    "\n",
    "def ReadAsin():\n",
    "    # AsinList = csv.DictReader(open(os.path.join(os.path.dirname(__file__),\"Asinfeed.csv\")))\n",
    "    AsinList = [\"jacket\", \"B00GBCTSYU\"]\n",
    "    data = []\n",
    "    for index, item in enumerate(AsinList):\n",
    "        url = \"https://www.amazon.com/s?field-keywords\" + item\n",
    "        data.append(parse(url))\n",
    "        sleep(5)\n",
    "        prod = data[0]\n",
    "        print(prod['NAME'], prod['ORIGINAL_PRICE'])\n",
    "ReadAsin()"
   ]
  },
  {
   "cell_type": "code",
   "execution_count": 35,
   "metadata": {},
   "outputs": [
    {
     "data": {
      "text/plain": [
       "'b\\'<!--\\\\n        To discuss automated access to Amazon data please contact api-services-support@amazon.com.\\\\n        For information about migrating to our APIs refer to our Marketplace APIs at https://developer.amazonservices.com/ref=rm_5_sv, or our Product Advertising API at https://affiliate-program.amazon.com/gp/advertising/api/detail/main.html/ref=rm_5_ac for advertising use cases.\\\\n-->\\\\n<!doctype html>\\\\n<html>\\\\n<head>\\\\n  <meta charset=\"utf-8\">\\\\n  <meta http-equiv=\"x-ua-compatible\" content=\"ie=edge\">\\\\n  <meta name=\"viewport\" content=\"width=device-width, initial-scale=1, shrink-to-fit=no\">\\\\n  <title>Sorry! Something went wrong!</title>\\\\n  <style>\\\\n  html, body {\\\\n    padding: 0;\\\\n    margin: 0\\\\n  }\\\\n\\\\n  img {\\\\n    border: 0\\\\n  }\\\\n\\\\n  #a {\\\\n    background: #232f3e;\\\\n    padding: 11px 11px 11px 192px\\\\n  }\\\\n\\\\n  #b {\\\\n    position: absolute;\\\\n    left: 22px;\\\\n    top: 12px\\\\n  }\\\\n\\\\n  #c {\\\\n    position: relative;\\\\n    max-width: 800px;\\\\n    padding: 0 40px 0 0\\\\n  }\\\\n\\\\n  #e, #f {\\\\n    height: 35px;\\\\n    border: 0;\\\\n    font-size: 1em\\\\n  }\\\\n\\\\n  #e {\\\\n    width: 100%;\\\\n    margin: 0;\\\\n    padding: 0 10px;\\\\n    border-radius: 4px 0 0 4px\\\\n  }\\\\n\\\\n  #f {\\\\n    cursor: pointer;\\\\n    background: #febd69;\\\\n    font-weight: bold;\\\\n    border-radius: 0 4px 4px 0;\\\\n    -webkit-appearance: none;\\\\n    position: absolute;\\\\n    top: 0;\\\\n    right: 0;\\\\n    padding: 0 12px\\\\n  }\\\\n\\\\n  @media (max-width: 500px) {\\\\n    #a {\\\\n      padding: 55px 10px 10px\\\\n    }\\\\n\\\\n    #b {\\\\n      left: 6px\\\\n    }\\\\n  }\\\\n\\\\n  #g {\\\\n    text-align: center;\\\\n    margin: 30px 0\\\\n  }\\\\n\\\\n  #g img {\\\\n    max-width: 90%\\\\n  }\\\\n\\\\n  #d {\\\\n    display: none\\\\n  }\\\\n\\\\n  #d[src] {\\\\n    display: inline\\\\n  }\\\\n  </style>\\\\n</head>\\\\n<body>\\\\n    <a href=\"/ref=cs_503_logo\"><img id=\"b\" src=\"https://images-na.ssl-images-amazon.com/images/G/01/error/logo._TTD_.png\" alt=\"Amazon.com\"></a>\\\\n    <form id=\"a\" accept-charset=\"utf-8\" action=\"/s\" method=\"GET\" role=\"search\">\\\\n        <div id=\"c\">\\\\n            <input id=\"e\" name=\"field-keywords\" placeholder=\"Search\">\\\\n            <input name=\"ref\" type=\"hidden\" value=\"cs_503_search\">\\\\n            <input id=\"f\" type=\"submit\" value=\"Go\">\\\\n        </div>\\\\n    </form>\\\\n<div id=\"g\">\\\\n  <div><a href=\"/ref=cs_503_link\"><img src=\"https://images-na.ssl-images-amazon.com/images/G/01/error/500_503.png\"\\\\n                                        alt=\"Sorry! Something went wrong on our end. Please go back and try again or go to Amazon\\\\\\'s home page.\"></a>\\\\n  </div>\\\\n  <a href=\"/dogsofamazon\" target=\"_blank\" rel=\"noopener noreferrer\"><img id=\"d\" alt=\"Dogs of Amazon\"></a>\\\\n  <script>document.getElementById(\"d\").src = \"https://images-na.ssl-images-amazon.com/images/G/01/error/\" + (Math.floor(Math.random() * 43) + 1) + \"._TTD_.jpg\";</script>\\\\n</div>\\\\n</body>\\\\n</html>\\\\n\\''"
      ]
     },
     "execution_count": 35,
     "metadata": {},
     "output_type": "execute_result"
    }
   ],
   "source": [
    "url = 'http://www.amazon.com/s?keywords=imac'\n",
    "text = requests.get(url).content\n",
    "text = str(text)\n",
    "text"
   ]
  },
  {
   "cell_type": "code",
   "execution_count": 36,
   "metadata": {
    "collapsed": true
   },
   "outputs": [],
   "source": [
    "### parsing html from example search using regex\n",
    "import re"
   ]
  },
  {
   "cell_type": "code",
   "execution_count": 37,
   "metadata": {
    "collapsed": true
   },
   "outputs": [],
   "source": [
    "pattern = re.compile(r\"http://www.amazon.com/.*/dp/(.*?)\\\"\")"
   ]
  },
  {
   "cell_type": "code",
   "execution_count": 38,
   "metadata": {},
   "outputs": [
    {
     "data": {
      "text/plain": [
       "[]"
      ]
     },
     "execution_count": 38,
     "metadata": {},
     "output_type": "execute_result"
    }
   ],
   "source": [
    "re.findall(pattern, text)"
   ]
  },
  {
   "cell_type": "code",
   "execution_count": null,
   "metadata": {
    "collapsed": true
   },
   "outputs": [],
   "source": []
  }
 ],
 "metadata": {
  "kernelspec": {
   "display_name": "Python 3",
   "language": "python",
   "name": "python3"
  },
  "language_info": {
   "codemirror_mode": {
    "name": "ipython",
    "version": 3
   },
   "file_extension": ".py",
   "mimetype": "text/x-python",
   "name": "python",
   "nbconvert_exporter": "python",
   "pygments_lexer": "ipython3",
   "version": "3.6.1"
  }
 },
 "nbformat": 4,
 "nbformat_minor": 2
}
