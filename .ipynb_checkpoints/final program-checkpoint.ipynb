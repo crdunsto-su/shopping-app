{
 "cells": [
  {
   "cell_type": "code",
   "execution_count": 10,
   "metadata": {
    "collapsed": true
   },
   "outputs": [],
   "source": [
    "from lxml import html\n",
    "import json\n",
    "import requests\n",
    "from time import sleep\n",
    "import pandas as pd\n"
   ]
  },
  {
   "cell_type": "code",
   "execution_count": 11,
   "metadata": {
    "collapsed": true
   },
   "outputs": [],
   "source": [
    "def parse(url):\n",
    "    headers = {'User-Agent': 'Mozilla/5.0 (X11; Linux x86_64) AppleWebKit/537.36 (KHTML, like Gecko) Chrome/42.0.2311.90 Safari/537.36'}\n",
    "    page = requests.get(url,headers=headers)\n",
    "    for i in range(20):\n",
    "        sleep(3)\n",
    "        try:\n",
    "            doc = html.fromstring(page.content)\n",
    "            XPATH_NAME = '//h1[@id=\"title\"]//text()'\n",
    "            XPATH_SALE_PRICE = '//span[contains(@id,\"ourprice\") or contains(@id,\"saleprice\")]/text()'\n",
    "            XPATH_ORIGINAL_PRICE = '//td[contains(text(),\"List Price\") or contains(text(),\"M.R.P\") or contains(text(),\"Price\")]/following-sibling::td/text()'\n",
    "            XPATH_CATEGORY = '//a[@class=\"a-link-normal a-color-tertiary\"]//text()'\n",
    "            XPATH_AVAILABILITY = '//div[@id=\"availability\"]//text()'\n",
    "\n",
    "            RAW_NAME = doc.xpath(XPATH_NAME)\n",
    "            RAW_SALE_PRICE = doc.xpath(XPATH_SALE_PRICE)\n",
    "            RAW_CATEGORY = doc.xpath(XPATH_CATEGORY)\n",
    "            RAW_ORIGINAL_PRICE = doc.xpath(XPATH_ORIGINAL_PRICE)\n",
    "            RAw_AVAILABILITY = doc.xpath(XPATH_AVAILABILITY)\n",
    "\n",
    "            NAME = ' '.join(''.join(RAW_NAME).split()) \n",
    "            if RAW_NAME\n",
    "            else None\n",
    "            SALE_PRICE = ' '.join(''.join(RAW_SALE_PRICE).split()).strip() if RAW_SALE_PRICE else None\n",
    "            CATEGORY = ' > '.join([i.strip() for i in RAW_CATEGORY]) if RAW_CATEGORY else None\n",
    "            ORIGINAL_PRICE = ''.join(RAW_ORIGINAL_PRICE).strip() if RAW_ORIGINAL_PRICE else None\n",
    "            AVAILABILITY = ''.join(RAw_AVAILABILITY).strip() if RAw_AVAILABILITY else None\n",
    "\n",
    "            if not ORIGINAL_PRICE:\n",
    "                ORIGINAL_PRICE = SALE_PRICE\n",
    "            #retrying in case of caotcha\n",
    "            if not NAME :\n",
    "                raise ValueError('captcha')\n",
    "\n",
    "            data = {\n",
    "                    'NAME':NAME,\n",
    "                    'SALE_PRICE':SALE_PRICE,\n",
    "                    'CATEGORY':CATEGORY,\n",
    "                    'ORIGINAL_PRICE':ORIGINAL_PRICE,\n",
    "                    'AVAILABILITY':AVAILABILITY,\n",
    "                    'URL':url,\n",
    "                    }\n",
    "\n",
    "            return data\n",
    "        except Exception as e:\n",
    "            print (e)"
   ]
  },
  {
   "cell_type": "code",
   "execution_count": 24,
   "metadata": {
    "collapsed": true
   },
   "outputs": [],
   "source": [
    "apparel = {\n",
    "    \"women\": {\n",
    "        \"tops\" : [\"B075FLTQYL\", \"B01J7QP7QY\", \"B06XBJBGHF\", \"B073H2XXZZ\", \"B07571M8QP\", \"B00ZUNH1V8\"],\n",
    "        \"bottoms\" : [\"B071KCST2M\", \"B01DTZV3GC\", \"B00B5W8310\", \"B01DVR2X76\", \"B01MQWGKL0\", \"B06XRXZCK4\", \"B01MYDQV2P\"],\n",
    "        \"accessories\" : [\"B01LWUNIPA\",\"B074HXSLBH\", \"B072C8G68X\", \"B075QVBTNJ\", \"B0077G0VZE\", \"B075MX1TV9\", \"B00GBCTSYU\", \"B01N8PBVGL\", \"B0748BKXJB\"]\n",
    "    },\n",
    "    \"men\" :{\n",
    "        \"tops\" : [\"B06X3SGD2B\", \"B01B3GMNU4\", \"B00TUMS344\", \"B00GOZPM44\", \"B072MS3WW5\", \"B073QGVRBH\", \"B0741C4QJ3\"],\n",
    "        \"bottoms\" : [\"B073XD9NH2\"],\n",
    "        \"accessories\" : [\"B072C8G68X\", \"B0748BKXJB\", \"B01N8PBVGL\"]\n",
    "    }\n",
    "}\n",
    "\n",
    "## define vars for product types\n",
    "\n",
    "m_t = apparel[\"men\"][\"tops\"]\n",
    "w_t = apparel[\"women\"][\"tops\"]"
   ]
  },
  {
   "cell_type": "code",
   "execution_count": 29,
   "metadata": {},
   "outputs": [
    {
     "name": "stdout",
     "output_type": "stream",
     "text": [
      "0 B075FLTQYL\n",
      "https://www.amazon.com/gp/product/B075FLTQYL\n",
      "{'NAME': 'Youtalia Womens 3/4 Cuffed Sleeve Chiffon Printed V Neck Casual Blouse Shirt Tops', 'SALE_PRICE': '$18.99 - $25.99', 'CATEGORY': 'Clothing, Shoes & Jewelry > Women > Clothing > Tops & Tees > Blouses & Button-Down Shirts', 'ORIGINAL_PRICE': '$18.99 - $25.99', 'AVAILABILITY': None, 'URL': 'https://www.amazon.com/gp/product/B075FLTQYL'}\n",
      "{'NAME': 'Youtalia Womens 3/4 Cuffed Sleeve Chiffon Printed V Neck Casual Blouse Shirt Tops', 'SALE_PRICE': '$18.99 - $25.99', 'CATEGORY': 'Clothing, Shoes & Jewelry > Women > Clothing > Tops & Tees > Blouses & Button-Down Shirts', 'ORIGINAL_PRICE': '$18.99 - $25.99', 'AVAILABILITY': None, 'URL': 'https://www.amazon.com/gp/product/B075FLTQYL'} 6\n",
      "1 B01J7QP7QY\n",
      "https://www.amazon.com/gp/product/B01J7QP7QY\n",
      "{'NAME': \"LOSRLY Women's Loose Solid Chiffon Blouses V Neck Cuffed Sleeve Shirts Tops\", 'SALE_PRICE': '$14.99', 'CATEGORY': 'Clothing, Shoes & Jewelry > Women > Clothing > Tops & Tees > Blouses & Button-Down Shirts', 'ORIGINAL_PRICE': '$14.99', 'AVAILABILITY': None, 'URL': 'https://www.amazon.com/gp/product/B01J7QP7QY'}\n"
     ]
    },
    {
     "ename": "AttributeError",
     "evalue": "'dict' object has no attribute 'append'",
     "output_type": "error",
     "traceback": [
      "\u001b[1;31m---------------------------------------------------------------------------\u001b[0m",
      "\u001b[1;31mAttributeError\u001b[0m                            Traceback (most recent call last)",
      "\u001b[1;32m<ipython-input-29-6a2d91507922>\u001b[0m in \u001b[0;36m<module>\u001b[1;34m()\u001b[0m\n\u001b[0;32m      8\u001b[0m     \u001b[0mproduct\u001b[0m \u001b[1;33m=\u001b[0m \u001b[0mparse\u001b[0m\u001b[1;33m(\u001b[0m\u001b[0murl\u001b[0m\u001b[1;33m)\u001b[0m\u001b[1;33m\u001b[0m\u001b[0m\n\u001b[0;32m      9\u001b[0m     \u001b[0mprint\u001b[0m\u001b[1;33m(\u001b[0m\u001b[0mproduct\u001b[0m\u001b[1;33m)\u001b[0m\u001b[1;33m\u001b[0m\u001b[0m\n\u001b[1;32m---> 10\u001b[1;33m     \u001b[0msearch\u001b[0m\u001b[1;33m.\u001b[0m\u001b[0mappend\u001b[0m\u001b[1;33m(\u001b[0m\u001b[0mproduct\u001b[0m\u001b[1;33m)\u001b[0m\u001b[1;33m\u001b[0m\u001b[0m\n\u001b[0m\u001b[0;32m     11\u001b[0m     \u001b[0msearch\u001b[0m \u001b[1;33m=\u001b[0m \u001b[0msearch\u001b[0m\u001b[1;33m[\u001b[0m\u001b[0mindex\u001b[0m\u001b[1;33m]\u001b[0m\u001b[1;33m\u001b[0m\u001b[0m\n\u001b[0;32m     12\u001b[0m     \u001b[0mprint\u001b[0m\u001b[1;33m(\u001b[0m\u001b[0msearch\u001b[0m\u001b[1;33m,\u001b[0m \u001b[0mlen\u001b[0m\u001b[1;33m(\u001b[0m\u001b[0msearch\u001b[0m\u001b[1;33m)\u001b[0m\u001b[1;33m)\u001b[0m\u001b[1;33m\u001b[0m\u001b[0m\n",
      "\u001b[1;31mAttributeError\u001b[0m: 'dict' object has no attribute 'append'"
     ]
    }
   ],
   "source": [
    "x = w_t\n",
    "\n",
    "search = []\n",
    "for index, item in enumerate(x):\n",
    "    print(index, item)\n",
    "    url = \"https://www.amazon.com/gp/product/\" + item\n",
    "    print(url)\n",
    "    \n",
    "## return a url (make sure it works) and then run through the parser.\n",
    "    product = parse(url)\n",
    "    print(product)\n",
    "    search.append(product)\n",
    "    search = search[index]\n",
    "    print(search, len(search))\n",
    "    name = search['NAME']\n",
    "    price = search['ORIGINAL_PRICE']\n",
    "        "
   ]
  },
  {
   "cell_type": "code",
   "execution_count": null,
   "metadata": {},
   "outputs": [],
   "source": []
  },
  {
   "cell_type": "code",
   "execution_count": 45,
   "metadata": {},
   "outputs": [
    {
     "name": "stdout",
     "output_type": "stream",
     "text": [
      "['https://www.amazon.com/gp/product/B075FLTQYL', 'https://www.amazon.com/gp/product/B01J7QP7QY', 'https://www.amazon.com/gp/product/B06XBJBGHF', 'https://www.amazon.com/gp/product/B073H2XXZZ', 'https://www.amazon.com/gp/product/B07571M8QP', 'https://www.amazon.com/gp/product/B00ZUNH1V8']\n"
     ]
    }
   ],
   "source": [
    "x = w_t\n",
    "## for each product id in men/women's tops, bottoms, etc, \n",
    "search = []\n",
    "for index, item in enumerate(x):\n",
    "    url = \"https://www.amazon.com/gp/product/\" + item\n",
    "    search.append(url)\n",
    "print(search)\n",
    "    "
   ]
  },
  {
   "cell_type": "code",
   "execution_count": null,
   "metadata": {
    "collapsed": true
   },
   "outputs": [],
   "source": []
  },
  {
   "cell_type": "code",
   "execution_count": null,
   "metadata": {
    "collapsed": true
   },
   "outputs": [],
   "source": []
  },
  {
   "cell_type": "code",
   "execution_count": null,
   "metadata": {
    "collapsed": true
   },
   "outputs": [],
   "source": []
  },
  {
   "cell_type": "code",
   "execution_count": 38,
   "metadata": {
    "collapsed": true
   },
   "outputs": [],
   "source": [
    "## parsing html from example search using regex\n",
    "## import re\n",
    "## pattern = re.compile(r\"http://www.amazon.com/.*/dp/(.*?)\\\"\")\n",
    "## re.findall(pattern)"
   ]
  }
 ],
 "metadata": {
  "kernelspec": {
   "display_name": "Python 3",
   "language": "python",
   "name": "python3"
  },
  "language_info": {
   "codemirror_mode": {
    "name": "ipython",
    "version": 3
   },
   "file_extension": ".py",
   "mimetype": "text/x-python",
   "name": "python",
   "nbconvert_exporter": "python",
   "pygments_lexer": "ipython3",
   "version": "3.6.1"
  }
 },
 "nbformat": 4,
 "nbformat_minor": 2
}
